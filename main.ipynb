{
 "cells": [
  {
   "cell_type": "markdown",
   "metadata": {},
   "source": [
    "# Adversarial Attack and Defense Mechanisms on Traffic Signs"
   ]
  },
  {
   "cell_type": "code",
   "execution_count": null,
   "metadata": {},
   "outputs": [],
   "source": [
    "# imports\n",
    "from dataset_train import GTSRB_Train\n",
    "from dataset_test import GTSRB_Test\n",
    "import torch\n",
    "from torch.utils.data import DataLoader\n",
    "import torchvision.transforms as transforms\n",
    "import torch.nn.functional as F\n",
    "from evaluation import evaluate\n",
    "from torch.autograd import Variable\n",
    "import numpy as np\n",
    "import matplotlib.pyplot as plt\n",
    "from KPixel import k_pixel_attack_sample, k_pixel_attack1\n",
    "from KPixelContiguous import k_pixel_contiguous_sample, k_pixel_contiguous_attack1\n",
    "from AllPixelGaussian import  all_pixel_gaussian_sample\n"
   ]
  },
  {
   "cell_type": "markdown",
   "metadata": {},
   "source": [
    "## Loading the Dataset\n",
    "\n",
    "Load data set and perform preprocessing tasks"
   ]
  },
  {
   "cell_type": "code",
   "execution_count": null,
   "metadata": {},
   "outputs": [],
   "source": [
    "# Download data from here https://benchmark.ini.rub.de/gtsrb_dataset.html#Downloads\n",
    "training_root = f'GTSRB/Training'\n",
    "testing_root = f'GTSRB/Final_Test/Images'\n",
    "device = torch.device('cuda' if torch.cuda.is_available() else 'cpu')\n",
    "print(device)\n",
    "seed = 1\n",
    "torch.manual_seed(seed)\n",
    "\n",
    "train_dataset = GTSRB_Train(root=training_root, transform=transforms.Compose([\n",
    "    transforms.Resize([48, 48]),\n",
    "    transforms.ToTensor()\n",
    "]))\n",
    "\n",
    "test_dataset = GTSRB_Test(root=testing_root, transform=transforms.Compose([\n",
    "    transforms.Resize([48, 48]),\n",
    "    transforms.ToTensor()\n",
    "]))\n",
    "\n",
    "print(f\"Train Size: {len(train_dataset)}\")\n",
    "print(f\"Test Size: {len(test_dataset)}\")\n",
    "\n",
    "train_loader = DataLoader(dataset=train_dataset, batch_size=64, shuffle=True)\n",
    "test_loader = DataLoader(dataset=test_dataset, batch_size=64, shuffle=True)"
   ]
  },
  {
   "cell_type": "markdown",
   "metadata": {},
   "source": [
    "## MicronNet\n",
    "\n",
    "Loading model and setting hyper-parameters"
   ]
  },
  {
   "cell_type": "code",
   "execution_count": null,
   "metadata": {},
   "outputs": [],
   "source": [
    "from MicronNet import MicronNet\n",
    "\n",
    "batch_size = 64\n",
    "lr = 0.007\n",
    "momentum = 0.8\n",
    "decay = 0.9\n",
    "l2_norm = 0.00001\n",
    "\n",
    "model_micronNet = MicronNet().to(device)\n",
    "optimizer = torch.optim.SGD(model_micronNet.parameters(\n",
    "), lr=lr, momentum=momentum, weight_decay=l2_norm, nesterov=True)\n",
    "scheduler = torch.optim.lr_scheduler.ExponentialLR(optimizer, gamma=decay)\n",
    "\n",
    "epochs = [1]\n",
    "microNet_evaluations = []\n",
    "for e in epochs:\n",
    "    microNet_evaluations.append(evaluate(e, train_loader, test_loader, model_micronNet,\n",
    "             optimizer, device, True, scheduler))"
   ]
  },
  {
   "cell_type": "markdown",
   "metadata": {},
   "source": [
    "## Attacks on MicronNet"
   ]
  },
  {
   "cell_type": "code",
   "execution_count": null,
   "metadata": {},
   "outputs": [],
   "source": [
    "k_pixel_attack1(test_loader, model_micronNet)"
   ]
  },
  {
   "cell_type": "code",
   "execution_count": null,
   "metadata": {},
   "outputs": [],
   "source": [
    "k_pixel_contiguous_attack1(test_loader, model_micronNet)"
   ]
  },
  {
   "cell_type": "markdown",
   "metadata": {},
   "source": [
    "## AlexNet\n",
    "\n",
    "Loading model and setting hyper-parameters"
   ]
  },
  {
   "cell_type": "code",
   "execution_count": null,
   "metadata": {},
   "outputs": [],
   "source": [
    "from AlexNet import AlexNet\n",
    "\n",
    "model_alexNet = AlexNet().to(device)\n",
    "optimizer = torch.optim.Adam(model_alexNet.parameters())\n",
    "loss_fn = F.nll_loss\n",
    "\n",
    "epochs = [5, 10, 15]\n",
    "alexNet_evaluations = []\n",
    "for e in epochs:\n",
    "    alexNet_evaluations.append(alexNet_evaluations.append(evaluate(e, train_loader, test_loader, model,\n",
    "                                                                   optimizer, device, False)))"
   ]
  },
  {
   "cell_type": "markdown",
   "metadata": {},
   "source": [
    "## Attacks on AlexNet"
   ]
  },
  {
   "cell_type": "code",
   "execution_count": null,
   "metadata": {},
   "outputs": [],
   "source": [
    "attacks = k_pixel_attack_sample(test_loader,model_alexNet,5)"
   ]
  },
  {
   "cell_type": "code",
   "execution_count": null,
   "metadata": {},
   "outputs": [],
   "source": [
    "attacks = k_pixel_contiguous_attack1(test_loader,model_alexNet,5)"
   ]
  },
  {
   "cell_type": "markdown",
   "metadata": {},
   "source": [
    "## Attack 3: All Pixel Gaussian "
   ]
  },
  {
   "cell_type": "code",
   "execution_count": null,
   "metadata": {},
   "outputs": [],
   "source": [
    "all_pixel_gaussian_sample(test_loader,model_alexNet,5)"
   ]
  },
  {
   "cell_type": "code",
   "execution_count": null,
   "metadata": {},
   "outputs": [],
   "source": [
    "all_pixel_gaussian_sample(test_loader,model_micronNet,5)"
   ]
  }
 ],
 "metadata": {
  "interpreter": {
   "hash": "8b85ef464db247dfcf7e04df1c163c8eb8fd69f87dd70d204509b3feafe79674"
  },
  "kernelspec": {
   "display_name": "Python 3.9.7 64-bit",
   "language": "python",
   "name": "python3"
  },
  "language_info": {
   "codemirror_mode": {
    "name": "ipython",
    "version": 3
   },
   "file_extension": ".py",
   "mimetype": "text/x-python",
   "name": "python",
   "nbconvert_exporter": "python",
   "pygments_lexer": "ipython3",
   "version": "3.9.7"
  },
  "orig_nbformat": 4
 },
 "nbformat": 4,
 "nbformat_minor": 2
}
